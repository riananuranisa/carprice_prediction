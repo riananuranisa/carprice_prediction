{
 "cells": [
  {
   "cell_type": "markdown",
   "id": "d21895ef",
   "metadata": {},
   "source": [
    "<h1> Pembagian 2 Model | Random Forest & Kmeans </h1>"
   ]
  },
  {
   "cell_type": "code",
   "execution_count": null,
   "id": "2e922d20",
   "metadata": {},
   "outputs": [
    {
     "name": "stdout",
     "output_type": "stream",
     "text": [
      "MAE: 1280.3440975609753\n",
      "RMSE: 1818.1088013623785\n",
      "R²: 0.958128309443089\n"
     ]
    }
   ],
   "source": [
    "import pandas as pd\n",
    "import numpy as np\n",
    "import pickle\n",
    "from sklearn.ensemble import RandomForestRegressor\n",
    "from sklearn.model_selection import train_test_split\n",
    "from sklearn.compose import ColumnTransformer\n",
    "from sklearn.pipeline import Pipeline\n",
    "from sklearn.preprocessing import OneHotEncoder\n",
    "from sklearn.metrics import mean_absolute_error, mean_squared_error, r2_score\n",
    "\n",
    "# Load dataset\n",
    "df = pd.read_csv(\"CarPrice_Assignment.csv\")\n",
    "\n",
    "# Pisahkan brand dari CarName\n",
    "df[['CarBrand', 'CarModel']] = df['CarName'].str.split(' ', n=1, expand=True)\n",
    "\n",
    "# Koreksi typo\n",
    "brand_corrections = {\n",
    "    'toyouta': 'toyota',\n",
    "    'Nissan': 'nissan',\n",
    "    'maxda': 'mazda',\n",
    "    'vw': 'volkswagen',\n",
    "    'vokswagen': 'volkswagen',\n",
    "    'porcshce': 'porsche',\n",
    "}\n",
    "df['CarBrand'] = df['CarBrand'].replace(brand_corrections).str.lower()\n",
    "\n",
    "# Drop kolom yang tidak relevan\n",
    "df.drop(columns=['car_ID', 'CarName', 'CarModel'], inplace=True)\n",
    "\n",
    "# Definisikan X dan y\n",
    "X = df.drop(columns=['price'])\n",
    "y = df['price']\n",
    "\n",
    "# Kolom kategorikal\n",
    "categorical_cols = X.select_dtypes(include='object').columns.tolist()\n",
    "\n",
    "# Preprocessing: OneHotEncoder untuk kolom kategorikal\n",
    "preprocessor = ColumnTransformer(transformers=[\n",
    "    ('cat', OneHotEncoder(handle_unknown='ignore'), categorical_cols)\n",
    "], remainder='passthrough')\n",
    "\n",
    "# Bangun pipeline model Random Forest\n",
    "model_rf = Pipeline(steps=[\n",
    "    ('preprocessor', preprocessor),\n",
    "    ('regressor', RandomForestRegressor(random_state=42))\n",
    "])\n",
    "\n",
    "# Train/Test split\n",
    "X_train, X_test, y_train, y_test = train_test_split(X, y, test_size=0.2, random_state=42)\n",
    "\n",
    "# Latih model\n",
    "model_rf.fit(X_train, y_train)\n",
    "\n",
    "# Evaluasi\n",
    "y_pred = model_rf.predict(X_test)\n",
    "print(\"MAE:\", mean_absolute_error(y_test, y_pred))\n",
    "print(\"RMSE:\", np.sqrt(mean_squared_error(y_test, y_pred)))\n",
    "print(\"R²:\", r2_score(y_test, y_pred))"
   ]
  },
  {
   "cell_type": "code",
   "execution_count": null,
   "id": "38494eaf",
   "metadata": {},
   "outputs": [],
   "source": [
    "from sklearn.cluster import KMeans\n",
    "from sklearn.preprocessing import StandardScaler\n",
    "import json\n",
    "\n",
    "# Fitur numerik yang dipakai untuk clustering\n",
    "fitur_cluster = ['price', 'horsepower', 'enginesize', 'curbweight', 'citympg', 'highwaympg']\n",
    "df_cluster = df[fitur_cluster].dropna()\n",
    "\n",
    "# Standarisasi\n",
    "scaler_kmeans = StandardScaler()\n",
    "data_scaled = scaler_kmeans.fit_transform(df_cluster)\n",
    "\n",
    "# KMeans Clustering (5 klaster)\n",
    "model_kmeans = KMeans(n_clusters=5, random_state=42, n_init=10)\n",
    "cluster_labels = model_kmeans.fit_predict(data_scaled)\n",
    "df['Cluster_Price'] = cluster_labels\n",
    "\n",
    "# Mapping klaster ke label harga\n",
    "cluster_means = df.groupby('Cluster_Price')['price'].mean().sort_values()\n",
    "ordered_clusters = cluster_means.index.tolist()\n",
    "price_label_mapping = {\n",
    "    ordered_clusters[0]: 'murah sekali',\n",
    "    ordered_clusters[1]: 'murah',\n",
    "    ordered_clusters[2]: 'sedang',\n",
    "    ordered_clusters[3]: 'mahal',\n",
    "    ordered_clusters[4]: 'sangat mahal'\n",
    "}\n",
    "df['Price_Label'] = df['Cluster_Price'].map(price_label_mapping)"
   ]
  }
 ],
 "metadata": {
  "kernelspec": {
   "display_name": "Python 3",
   "language": "python",
   "name": "python3"
  },
  "language_info": {
   "codemirror_mode": {
    "name": "ipython",
    "version": 3
   },
   "file_extension": ".py",
   "mimetype": "text/x-python",
   "name": "python",
   "nbconvert_exporter": "python",
   "pygments_lexer": "ipython3",
   "version": "3.13.5"
  }
 },
 "nbformat": 4,
 "nbformat_minor": 5
}
